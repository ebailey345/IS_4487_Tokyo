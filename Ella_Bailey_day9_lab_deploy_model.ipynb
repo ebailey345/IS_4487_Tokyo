{
  "cells": [
    {
      "cell_type": "markdown",
      "metadata": {
        "id": "view-in-github",
        "colab_type": "text"
      },
      "source": [
        "<a href=\"https://colab.research.google.com/github/ebailey345/IS_4487_Tokyo/blob/main/Ella_Bailey_day9_lab_deploy_model.ipynb\" target=\"_parent\"><img src=\"https://colab.research.google.com/assets/colab-badge.svg\" alt=\"Open In Colab\"/></a>"
      ]
    },
    {
      "cell_type": "markdown",
      "metadata": {
        "id": "p_Yu45OYdj3Y"
      },
      "source": [
        "# Day 9 Lab, IS 4487\n",
        "\n",
        "What do you need to do for today's project?\n",
        "\n",
        "1. Use the model to predict on a new dataset (without the target), then use those predictions to identify those who should be called--a contact list.\n",
        "2.  Make a recommendation to the Director of Sales based on all of your analytic work for this project.\n",
        "\n",
        "Remember that for this example we'll be using the MegaTelCo data, where the target is `leave` not `answer`.  \n",
        "\n",
        "Note that the first set of steps below is identical to the workflow in previous labs.\n",
        "\n",
        "\n"
      ]
    },
    {
      "cell_type": "markdown",
      "metadata": {
        "id": "UE93RwXhgiJS"
      },
      "source": [
        "#Load Libraries\n"
      ]
    },
    {
      "cell_type": "code",
      "execution_count": 1,
      "metadata": {
        "id": "JYRZY5n0gfNe"
      },
      "outputs": [],
      "source": [
        "from sklearn.tree import plot_tree\n",
        "from sklearn import tree\n",
        "from sklearn.tree import DecisionTreeClassifier, export_graphviz # Import Decision Tree Classifier\n",
        "import pandas as pd\n",
        "import matplotlib.pyplot as plt\n",
        "import numpy as np\n"
      ]
    },
    {
      "cell_type": "markdown",
      "metadata": {
        "id": "bREaXo8jfu-O"
      },
      "source": [
        "# Get Data\n",
        "\n",
        "For this part of the project we will be using the model to predict whether *current* customers will churn.\n",
        "\n",
        "Remember:  we have trained the model on historical data, which includes information about whether customers have *already* churned.  But the important use case is to predict whether *current* customers will churn."
      ]
    },
    {
      "cell_type": "code",
      "execution_count": 2,
      "metadata": {
        "id": "udYgkb6I3SJo"
      },
      "outputs": [],
      "source": [
        "# Training data\n",
        "mtc = pd.read_csv(\"https://raw.githubusercontent.com/jefftwebb/is_4487_base/dd870389117d5b24eee7417d5378d80496555130/Labs/DataSets/megatelco_leave_survey.csv\")\n",
        "\n",
        "# Current customer data\n",
        "current_customers = pd.read_csv(\"https://raw.githubusercontent.com/jefftwebb/is_4487_base/main/Labs/DataSets/megatelco_new_customer_data.csv\")"
      ]
    },
    {
      "cell_type": "markdown",
      "source": [
        "We should double check that this new dataset is also clean.  If it isn't there will be problems when predicting."
      ],
      "metadata": {
        "id": "rMmhoARH027w"
      }
    },
    {
      "cell_type": "code",
      "source": [
        "current_customers.describe()"
      ],
      "metadata": {
        "id": "2TCXNZDM02RL",
        "colab": {
          "base_uri": "https://localhost:8080/",
          "height": 300
        },
        "outputId": "e218e1e6-1ec9-432f-8ccb-ea75abfd0bbe"
      },
      "execution_count": 3,
      "outputs": [
        {
          "output_type": "execute_result",
          "data": {
            "text/plain": [
              "              income     overage   leftover          house  handset_price  \\\n",
              "count      24.000000   24.000000  24.000000      24.000000      24.000000   \n",
              "mean    83705.958333  110.208333  28.625000  451115.500000     385.125000   \n",
              "std     40593.334190   97.638632  29.793219  205207.606472     231.486184   \n",
              "min     20392.000000    0.000000   0.000000  173038.000000     132.000000   \n",
              "25%     46900.000000    0.000000   0.000000  263864.000000     203.750000   \n",
              "50%     90135.500000  112.000000  17.500000  443579.000000     338.000000   \n",
              "75%    120707.500000  197.750000  50.750000  594438.500000     416.250000   \n",
              "max    143929.000000  252.000000  87.000000  853464.000000     888.000000   \n",
              "\n",
              "       over_15mins_calls_per_month  average_call_duration            id  \n",
              "count                     24.00000              24.000000     24.000000  \n",
              "mean                      11.62500               5.125000  11275.583333  \n",
              "std                       10.66409               4.099973   4947.953779  \n",
              "min                        0.00000               1.000000   3239.000000  \n",
              "25%                        1.00000               2.000000   8620.500000  \n",
              "50%                        7.50000               4.000000  11261.500000  \n",
              "75%                       22.25000               9.000000  14307.500000  \n",
              "max                       29.00000              14.000000  19570.000000  "
            ],
            "text/html": [
              "\n",
              "  <div id=\"df-62896582-e085-400b-a258-4ba0887ed03a\" class=\"colab-df-container\">\n",
              "    <div>\n",
              "<style scoped>\n",
              "    .dataframe tbody tr th:only-of-type {\n",
              "        vertical-align: middle;\n",
              "    }\n",
              "\n",
              "    .dataframe tbody tr th {\n",
              "        vertical-align: top;\n",
              "    }\n",
              "\n",
              "    .dataframe thead th {\n",
              "        text-align: right;\n",
              "    }\n",
              "</style>\n",
              "<table border=\"1\" class=\"dataframe\">\n",
              "  <thead>\n",
              "    <tr style=\"text-align: right;\">\n",
              "      <th></th>\n",
              "      <th>income</th>\n",
              "      <th>overage</th>\n",
              "      <th>leftover</th>\n",
              "      <th>house</th>\n",
              "      <th>handset_price</th>\n",
              "      <th>over_15mins_calls_per_month</th>\n",
              "      <th>average_call_duration</th>\n",
              "      <th>id</th>\n",
              "    </tr>\n",
              "  </thead>\n",
              "  <tbody>\n",
              "    <tr>\n",
              "      <th>count</th>\n",
              "      <td>24.000000</td>\n",
              "      <td>24.000000</td>\n",
              "      <td>24.000000</td>\n",
              "      <td>24.000000</td>\n",
              "      <td>24.000000</td>\n",
              "      <td>24.00000</td>\n",
              "      <td>24.000000</td>\n",
              "      <td>24.000000</td>\n",
              "    </tr>\n",
              "    <tr>\n",
              "      <th>mean</th>\n",
              "      <td>83705.958333</td>\n",
              "      <td>110.208333</td>\n",
              "      <td>28.625000</td>\n",
              "      <td>451115.500000</td>\n",
              "      <td>385.125000</td>\n",
              "      <td>11.62500</td>\n",
              "      <td>5.125000</td>\n",
              "      <td>11275.583333</td>\n",
              "    </tr>\n",
              "    <tr>\n",
              "      <th>std</th>\n",
              "      <td>40593.334190</td>\n",
              "      <td>97.638632</td>\n",
              "      <td>29.793219</td>\n",
              "      <td>205207.606472</td>\n",
              "      <td>231.486184</td>\n",
              "      <td>10.66409</td>\n",
              "      <td>4.099973</td>\n",
              "      <td>4947.953779</td>\n",
              "    </tr>\n",
              "    <tr>\n",
              "      <th>min</th>\n",
              "      <td>20392.000000</td>\n",
              "      <td>0.000000</td>\n",
              "      <td>0.000000</td>\n",
              "      <td>173038.000000</td>\n",
              "      <td>132.000000</td>\n",
              "      <td>0.00000</td>\n",
              "      <td>1.000000</td>\n",
              "      <td>3239.000000</td>\n",
              "    </tr>\n",
              "    <tr>\n",
              "      <th>25%</th>\n",
              "      <td>46900.000000</td>\n",
              "      <td>0.000000</td>\n",
              "      <td>0.000000</td>\n",
              "      <td>263864.000000</td>\n",
              "      <td>203.750000</td>\n",
              "      <td>1.00000</td>\n",
              "      <td>2.000000</td>\n",
              "      <td>8620.500000</td>\n",
              "    </tr>\n",
              "    <tr>\n",
              "      <th>50%</th>\n",
              "      <td>90135.500000</td>\n",
              "      <td>112.000000</td>\n",
              "      <td>17.500000</td>\n",
              "      <td>443579.000000</td>\n",
              "      <td>338.000000</td>\n",
              "      <td>7.50000</td>\n",
              "      <td>4.000000</td>\n",
              "      <td>11261.500000</td>\n",
              "    </tr>\n",
              "    <tr>\n",
              "      <th>75%</th>\n",
              "      <td>120707.500000</td>\n",
              "      <td>197.750000</td>\n",
              "      <td>50.750000</td>\n",
              "      <td>594438.500000</td>\n",
              "      <td>416.250000</td>\n",
              "      <td>22.25000</td>\n",
              "      <td>9.000000</td>\n",
              "      <td>14307.500000</td>\n",
              "    </tr>\n",
              "    <tr>\n",
              "      <th>max</th>\n",
              "      <td>143929.000000</td>\n",
              "      <td>252.000000</td>\n",
              "      <td>87.000000</td>\n",
              "      <td>853464.000000</td>\n",
              "      <td>888.000000</td>\n",
              "      <td>29.00000</td>\n",
              "      <td>14.000000</td>\n",
              "      <td>19570.000000</td>\n",
              "    </tr>\n",
              "  </tbody>\n",
              "</table>\n",
              "</div>\n",
              "    <div class=\"colab-df-buttons\">\n",
              "\n",
              "  <div class=\"colab-df-container\">\n",
              "    <button class=\"colab-df-convert\" onclick=\"convertToInteractive('df-62896582-e085-400b-a258-4ba0887ed03a')\"\n",
              "            title=\"Convert this dataframe to an interactive table.\"\n",
              "            style=\"display:none;\">\n",
              "\n",
              "  <svg xmlns=\"http://www.w3.org/2000/svg\" height=\"24px\" viewBox=\"0 -960 960 960\">\n",
              "    <path d=\"M120-120v-720h720v720H120Zm60-500h600v-160H180v160Zm220 220h160v-160H400v160Zm0 220h160v-160H400v160ZM180-400h160v-160H180v160Zm440 0h160v-160H620v160ZM180-180h160v-160H180v160Zm440 0h160v-160H620v160Z\"/>\n",
              "  </svg>\n",
              "    </button>\n",
              "\n",
              "  <style>\n",
              "    .colab-df-container {\n",
              "      display:flex;\n",
              "      gap: 12px;\n",
              "    }\n",
              "\n",
              "    .colab-df-convert {\n",
              "      background-color: #E8F0FE;\n",
              "      border: none;\n",
              "      border-radius: 50%;\n",
              "      cursor: pointer;\n",
              "      display: none;\n",
              "      fill: #1967D2;\n",
              "      height: 32px;\n",
              "      padding: 0 0 0 0;\n",
              "      width: 32px;\n",
              "    }\n",
              "\n",
              "    .colab-df-convert:hover {\n",
              "      background-color: #E2EBFA;\n",
              "      box-shadow: 0px 1px 2px rgba(60, 64, 67, 0.3), 0px 1px 3px 1px rgba(60, 64, 67, 0.15);\n",
              "      fill: #174EA6;\n",
              "    }\n",
              "\n",
              "    .colab-df-buttons div {\n",
              "      margin-bottom: 4px;\n",
              "    }\n",
              "\n",
              "    [theme=dark] .colab-df-convert {\n",
              "      background-color: #3B4455;\n",
              "      fill: #D2E3FC;\n",
              "    }\n",
              "\n",
              "    [theme=dark] .colab-df-convert:hover {\n",
              "      background-color: #434B5C;\n",
              "      box-shadow: 0px 1px 3px 1px rgba(0, 0, 0, 0.15);\n",
              "      filter: drop-shadow(0px 1px 2px rgba(0, 0, 0, 0.3));\n",
              "      fill: #FFFFFF;\n",
              "    }\n",
              "  </style>\n",
              "\n",
              "    <script>\n",
              "      const buttonEl =\n",
              "        document.querySelector('#df-62896582-e085-400b-a258-4ba0887ed03a button.colab-df-convert');\n",
              "      buttonEl.style.display =\n",
              "        google.colab.kernel.accessAllowed ? 'block' : 'none';\n",
              "\n",
              "      async function convertToInteractive(key) {\n",
              "        const element = document.querySelector('#df-62896582-e085-400b-a258-4ba0887ed03a');\n",
              "        const dataTable =\n",
              "          await google.colab.kernel.invokeFunction('convertToInteractive',\n",
              "                                                    [key], {});\n",
              "        if (!dataTable) return;\n",
              "\n",
              "        const docLinkHtml = 'Like what you see? Visit the ' +\n",
              "          '<a target=\"_blank\" href=https://colab.research.google.com/notebooks/data_table.ipynb>data table notebook</a>'\n",
              "          + ' to learn more about interactive tables.';\n",
              "        element.innerHTML = '';\n",
              "        dataTable['output_type'] = 'display_data';\n",
              "        await google.colab.output.renderOutput(dataTable, element);\n",
              "        const docLink = document.createElement('div');\n",
              "        docLink.innerHTML = docLinkHtml;\n",
              "        element.appendChild(docLink);\n",
              "      }\n",
              "    </script>\n",
              "  </div>\n",
              "\n",
              "\n",
              "<div id=\"df-ef19241b-0477-42dc-b455-7520fa6e4771\">\n",
              "  <button class=\"colab-df-quickchart\" onclick=\"quickchart('df-ef19241b-0477-42dc-b455-7520fa6e4771')\"\n",
              "            title=\"Suggest charts\"\n",
              "            style=\"display:none;\">\n",
              "\n",
              "<svg xmlns=\"http://www.w3.org/2000/svg\" height=\"24px\"viewBox=\"0 0 24 24\"\n",
              "     width=\"24px\">\n",
              "    <g>\n",
              "        <path d=\"M19 3H5c-1.1 0-2 .9-2 2v14c0 1.1.9 2 2 2h14c1.1 0 2-.9 2-2V5c0-1.1-.9-2-2-2zM9 17H7v-7h2v7zm4 0h-2V7h2v10zm4 0h-2v-4h2v4z\"/>\n",
              "    </g>\n",
              "</svg>\n",
              "  </button>\n",
              "\n",
              "<style>\n",
              "  .colab-df-quickchart {\n",
              "      --bg-color: #E8F0FE;\n",
              "      --fill-color: #1967D2;\n",
              "      --hover-bg-color: #E2EBFA;\n",
              "      --hover-fill-color: #174EA6;\n",
              "      --disabled-fill-color: #AAA;\n",
              "      --disabled-bg-color: #DDD;\n",
              "  }\n",
              "\n",
              "  [theme=dark] .colab-df-quickchart {\n",
              "      --bg-color: #3B4455;\n",
              "      --fill-color: #D2E3FC;\n",
              "      --hover-bg-color: #434B5C;\n",
              "      --hover-fill-color: #FFFFFF;\n",
              "      --disabled-bg-color: #3B4455;\n",
              "      --disabled-fill-color: #666;\n",
              "  }\n",
              "\n",
              "  .colab-df-quickchart {\n",
              "    background-color: var(--bg-color);\n",
              "    border: none;\n",
              "    border-radius: 50%;\n",
              "    cursor: pointer;\n",
              "    display: none;\n",
              "    fill: var(--fill-color);\n",
              "    height: 32px;\n",
              "    padding: 0;\n",
              "    width: 32px;\n",
              "  }\n",
              "\n",
              "  .colab-df-quickchart:hover {\n",
              "    background-color: var(--hover-bg-color);\n",
              "    box-shadow: 0 1px 2px rgba(60, 64, 67, 0.3), 0 1px 3px 1px rgba(60, 64, 67, 0.15);\n",
              "    fill: var(--button-hover-fill-color);\n",
              "  }\n",
              "\n",
              "  .colab-df-quickchart-complete:disabled,\n",
              "  .colab-df-quickchart-complete:disabled:hover {\n",
              "    background-color: var(--disabled-bg-color);\n",
              "    fill: var(--disabled-fill-color);\n",
              "    box-shadow: none;\n",
              "  }\n",
              "\n",
              "  .colab-df-spinner {\n",
              "    border: 2px solid var(--fill-color);\n",
              "    border-color: transparent;\n",
              "    border-bottom-color: var(--fill-color);\n",
              "    animation:\n",
              "      spin 1s steps(1) infinite;\n",
              "  }\n",
              "\n",
              "  @keyframes spin {\n",
              "    0% {\n",
              "      border-color: transparent;\n",
              "      border-bottom-color: var(--fill-color);\n",
              "      border-left-color: var(--fill-color);\n",
              "    }\n",
              "    20% {\n",
              "      border-color: transparent;\n",
              "      border-left-color: var(--fill-color);\n",
              "      border-top-color: var(--fill-color);\n",
              "    }\n",
              "    30% {\n",
              "      border-color: transparent;\n",
              "      border-left-color: var(--fill-color);\n",
              "      border-top-color: var(--fill-color);\n",
              "      border-right-color: var(--fill-color);\n",
              "    }\n",
              "    40% {\n",
              "      border-color: transparent;\n",
              "      border-right-color: var(--fill-color);\n",
              "      border-top-color: var(--fill-color);\n",
              "    }\n",
              "    60% {\n",
              "      border-color: transparent;\n",
              "      border-right-color: var(--fill-color);\n",
              "    }\n",
              "    80% {\n",
              "      border-color: transparent;\n",
              "      border-right-color: var(--fill-color);\n",
              "      border-bottom-color: var(--fill-color);\n",
              "    }\n",
              "    90% {\n",
              "      border-color: transparent;\n",
              "      border-bottom-color: var(--fill-color);\n",
              "    }\n",
              "  }\n",
              "</style>\n",
              "\n",
              "  <script>\n",
              "    async function quickchart(key) {\n",
              "      const quickchartButtonEl =\n",
              "        document.querySelector('#' + key + ' button');\n",
              "      quickchartButtonEl.disabled = true;  // To prevent multiple clicks.\n",
              "      quickchartButtonEl.classList.add('colab-df-spinner');\n",
              "      try {\n",
              "        const charts = await google.colab.kernel.invokeFunction(\n",
              "            'suggestCharts', [key], {});\n",
              "      } catch (error) {\n",
              "        console.error('Error during call to suggestCharts:', error);\n",
              "      }\n",
              "      quickchartButtonEl.classList.remove('colab-df-spinner');\n",
              "      quickchartButtonEl.classList.add('colab-df-quickchart-complete');\n",
              "    }\n",
              "    (() => {\n",
              "      let quickchartButtonEl =\n",
              "        document.querySelector('#df-ef19241b-0477-42dc-b455-7520fa6e4771 button');\n",
              "      quickchartButtonEl.style.display =\n",
              "        google.colab.kernel.accessAllowed ? 'block' : 'none';\n",
              "    })();\n",
              "  </script>\n",
              "</div>\n",
              "\n",
              "    </div>\n",
              "  </div>\n"
            ],
            "application/vnd.google.colaboratory.intrinsic+json": {
              "type": "dataframe",
              "summary": "{\n  \"name\": \"current_customers\",\n  \"rows\": 8,\n  \"fields\": [\n    {\n      \"column\": \"income\",\n      \"properties\": {\n        \"dtype\": \"number\",\n        \"std\": 49803.66059380103,\n        \"min\": 24.0,\n        \"max\": 143929.0,\n        \"num_unique_values\": 8,\n        \"samples\": [\n          83705.95833333333,\n          90135.5,\n          24.0\n        ],\n        \"semantic_type\": \"\",\n        \"description\": \"\"\n      }\n    },\n    {\n      \"column\": \"overage\",\n      \"properties\": {\n        \"dtype\": \"number\",\n        \"std\": 91.56084922094207,\n        \"min\": 0.0,\n        \"max\": 252.0,\n        \"num_unique_values\": 7,\n        \"samples\": [\n          24.0,\n          110.20833333333333,\n          197.75\n        ],\n        \"semantic_type\": \"\",\n        \"description\": \"\"\n      }\n    },\n    {\n      \"column\": \"leftover\",\n      \"properties\": {\n        \"dtype\": \"number\",\n        \"std\": 28.46819336174283,\n        \"min\": 0.0,\n        \"max\": 87.0,\n        \"num_unique_values\": 7,\n        \"samples\": [\n          24.0,\n          28.625,\n          50.75\n        ],\n        \"semantic_type\": \"\",\n        \"description\": \"\"\n      }\n    },\n    {\n      \"column\": \"house\",\n      \"properties\": {\n        \"dtype\": \"number\",\n        \"std\": 269953.6669976227,\n        \"min\": 24.0,\n        \"max\": 853464.0,\n        \"num_unique_values\": 8,\n        \"samples\": [\n          451115.5,\n          443579.0,\n          24.0\n        ],\n        \"semantic_type\": \"\",\n        \"description\": \"\"\n      }\n    },\n    {\n      \"column\": \"handset_price\",\n      \"properties\": {\n        \"dtype\": \"number\",\n        \"std\": 261.95219777584344,\n        \"min\": 24.0,\n        \"max\": 888.0,\n        \"num_unique_values\": 8,\n        \"samples\": [\n          385.125,\n          338.0,\n          24.0\n        ],\n        \"semantic_type\": \"\",\n        \"description\": \"\"\n      }\n    },\n    {\n      \"column\": \"over_15mins_calls_per_month\",\n      \"properties\": {\n        \"dtype\": \"number\",\n        \"std\": 10.774572328001552,\n        \"min\": 0.0,\n        \"max\": 29.0,\n        \"num_unique_values\": 8,\n        \"samples\": [\n          11.625,\n          7.5,\n          24.0\n        ],\n        \"semantic_type\": \"\",\n        \"description\": \"\"\n      }\n    },\n    {\n      \"column\": \"average_call_duration\",\n      \"properties\": {\n        \"dtype\": \"number\",\n        \"std\": 7.721960784732122,\n        \"min\": 1.0,\n        \"max\": 24.0,\n        \"num_unique_values\": 8,\n        \"samples\": [\n          5.125,\n          4.0,\n          24.0\n        ],\n        \"semantic_type\": \"\",\n        \"description\": \"\"\n      }\n    },\n    {\n      \"column\": \"id\",\n      \"properties\": {\n        \"dtype\": \"number\",\n        \"std\": 6328.098764032193,\n        \"min\": 24.0,\n        \"max\": 19570.0,\n        \"num_unique_values\": 8,\n        \"samples\": [\n          11275.583333333334,\n          11261.5,\n          24.0\n        ],\n        \"semantic_type\": \"\",\n        \"description\": \"\"\n      }\n    }\n  ]\n}"
            }
          },
          "metadata": {},
          "execution_count": 3
        }
      ]
    },
    {
      "cell_type": "code",
      "source": [
        "current_customers.info()"
      ],
      "metadata": {
        "id": "NUEOzTt61KeA",
        "colab": {
          "base_uri": "https://localhost:8080/"
        },
        "outputId": "bbe6dfa7-aa78-4fb1-ac0c-cbbf5c2c7348"
      },
      "execution_count": 4,
      "outputs": [
        {
          "output_type": "stream",
          "name": "stdout",
          "text": [
            "<class 'pandas.core.frame.DataFrame'>\n",
            "RangeIndex: 24 entries, 0 to 23\n",
            "Data columns (total 12 columns):\n",
            " #   Column                       Non-Null Count  Dtype \n",
            "---  ------                       --------------  ----- \n",
            " 0   college                      24 non-null     object\n",
            " 1   income                       24 non-null     int64 \n",
            " 2   overage                      24 non-null     int64 \n",
            " 3   leftover                     24 non-null     int64 \n",
            " 4   house                        24 non-null     int64 \n",
            " 5   handset_price                24 non-null     int64 \n",
            " 6   over_15mins_calls_per_month  24 non-null     int64 \n",
            " 7   average_call_duration        24 non-null     int64 \n",
            " 8   reported_satisfaction        24 non-null     object\n",
            " 9   reported_usage_level         24 non-null     object\n",
            " 10  considering_change_of_plan   24 non-null     object\n",
            " 11  id                           24 non-null     int64 \n",
            "dtypes: int64(8), object(4)\n",
            "memory usage: 2.4+ KB\n"
          ]
        }
      ]
    },
    {
      "cell_type": "markdown",
      "source": [
        "Looks okay.\n",
        "\n",
        "And note that there is no target variable in the data."
      ],
      "metadata": {
        "id": "xR49h5BJ1Hbf"
      }
    },
    {
      "cell_type": "markdown",
      "metadata": {
        "id": "BtxOWvFlKzgE"
      },
      "source": [
        "# Clean data\n",
        "\n",
        "We need to take care that we perform *exactly* the same cleaning on the new data.\n",
        "\n",
        "Here is the cleaning/preparation for the historical MegaTelco data:\n"
      ]
    },
    {
      "cell_type": "code",
      "execution_count": 5,
      "metadata": {
        "id": "7KXLvMcBK8Za"
      },
      "outputs": [],
      "source": [
        "# Make explicit copy\n",
        "mtc_clean = mtc.copy()\n",
        "\n",
        "# filter rows\n",
        "mtc_clean = mtc_clean[(mtc_clean['house'] > 0) & (mtc_clean['income'] > 0) & (mtc_clean['handset_price'] < 1000)]\n",
        "\n",
        "# remove NAs\n",
        "mtc_clean = mtc_clean.dropna()\n",
        "\n",
        "# Recode college\n",
        "mtc_clean['college'] = mtc_clean['college'].replace({'one': 'yes', 'zero': 'no'})\n",
        "\n",
        "# change reported usage and reported satisfaction (ordered)\n",
        "mtc_clean['college'] = pd.Categorical(mtc_clean['college'],\n",
        "                                    ordered = False).codes\n",
        "\n",
        "mtc_clean['considering_change_of_plan'] = pd.Categorical(mtc_clean['considering_change_of_plan'],\n",
        "                                    ordered = False).codes\n",
        "\n",
        "# change reported usage and reported satisfaction (ordered)\n",
        "mtc_clean['reported_usage_level'] = pd.Categorical(mtc_clean['reported_usage_level'],\n",
        "                                    categories = ['low', 'avg','high'],\n",
        "                                    ordered = True).codes\n",
        "\n",
        "mtc_clean['reported_satisfaction'] = pd.Categorical(mtc_clean['reported_satisfaction'],\n",
        "                                    categories = ['low', 'avg','high'],\n",
        "                                    ordered = True).codes\n",
        "\n",
        "\n"
      ]
    },
    {
      "cell_type": "markdown",
      "source": [
        "And here is that same cleaning applied the data on current customers:"
      ],
      "metadata": {
        "id": "QtLvsCCUVKoN"
      }
    },
    {
      "cell_type": "code",
      "source": [
        "# Make explicit copy: ccc refers to current customers clean\n",
        "ccc = current_customers.copy()\n",
        "\n",
        "# filter rows\n",
        "ccc = ccc[(ccc['house'] > 0) & (ccc['income'] > 0) & (ccc['handset_price'] < 1000)]\n",
        "\n",
        "# remove NAs\n",
        "ccc = ccc.dropna()\n",
        "\n",
        "# Recode college\n",
        "ccc['college'] = ccc['college'].replace({'one': 'yes', 'zero': 'no'})\n",
        "\n",
        "# change reported usage and reported satisfaction (ordered)\n",
        "ccc['college'] = pd.Categorical(ccc['college'],\n",
        "                                    ordered = False).codes\n",
        "\n",
        "ccc['considering_change_of_plan'] = pd.Categorical(ccc['considering_change_of_plan'],\n",
        "                                    ordered = False).codes\n",
        "\n",
        "# change reported usage and reported satisfaction (ordered)\n",
        "ccc['reported_usage_level'] = pd.Categorical(ccc['reported_usage_level'],\n",
        "                                    categories = ['low', 'avg','high'],\n",
        "                                    ordered = True).codes\n",
        "\n",
        "ccc['reported_satisfaction'] = pd.Categorical(ccc['reported_satisfaction'],\n",
        "                                    categories = ['low', 'avg','high'],\n",
        "                                    ordered = True).codes\n",
        "\n",
        "\n"
      ],
      "metadata": {
        "id": "R2841HpyVSQQ"
      },
      "execution_count": 6,
      "outputs": []
    },
    {
      "cell_type": "markdown",
      "metadata": {
        "id": "Zp7wGDqJ4iuL"
      },
      "source": [
        "# Fit full model\n",
        "\n",
        "Again, we will set `max_depth = 5` to keep the tree simple and prevent overfitting.\n",
        "\n",
        "Since we have already determined that the model is not overfitting the data we can dispense with splitting it into train and test sets.  We will therefore use *all* the data to fit the model."
      ]
    },
    {
      "cell_type": "code",
      "execution_count": 7,
      "metadata": {
        "id": "gvMekcKg4y5X"
      },
      "outputs": [],
      "source": [
        "# split the dataframe into predictors (X) and target (y)\n",
        "X = mtc_clean.drop(['id', 'leave'], axis=1)\n",
        "y = mtc_clean['leave']\n",
        "\n",
        "# initialize the tree\n",
        "full_tree = DecisionTreeClassifier(criterion=\"entropy\", max_depth = 5)\n",
        "\n",
        "# Create Decision Tree Classifer\n",
        "full_tree = full_tree.fit(X, y)"
      ]
    },
    {
      "cell_type": "markdown",
      "source": [
        "# Predict\n",
        "\n",
        "The next step is to use the model to predict churn for the current customers.\n",
        "\n",
        "We need to ensure that the new dataset has the same shape and data types  as the data used to fit the model."
      ],
      "metadata": {
        "id": "lQqezQ9a1WtQ"
      }
    },
    {
      "cell_type": "markdown",
      "source": [
        "This will entail dropping the `id` column."
      ],
      "metadata": {
        "id": "ZC0RmbY92Nlo"
      }
    },
    {
      "cell_type": "code",
      "source": [
        "X_new = ccc.drop(['id'], axis=1)\n",
        "\n"
      ],
      "metadata": {
        "id": "ipxHmR8e16g4"
      },
      "execution_count": 8,
      "outputs": []
    },
    {
      "cell_type": "markdown",
      "source": [
        "Now we predict the probability of churn using the new data. Remember:  we are using the model trained on the historical data, `full_model`, to predict for the new data, `ccc` (the clean current customers data).\n",
        "\n",
        "The `predict_proba()` function returns an array with two columns that are organized according to the levels in the target:  column 0 presents the probability of `LEAVE` (the first level in the target); column 1 presents the probability of `STAY` (the second level).\n",
        "\n",
        "Hence we need to index that array to obtain the probabilities for `LEAVE` by choosing the first column: `[:, 0]`"
      ],
      "metadata": {
        "id": "_pIrr_Jf27Wn"
      }
    },
    {
      "cell_type": "code",
      "source": [
        "# Write your code here\n",
        "\n",
        "predictions = full_tree.predict_proba(X_new)[:, 0]\n"
      ],
      "metadata": {
        "id": "zBk-RMeC1mJ4"
      },
      "execution_count": 13,
      "outputs": []
    },
    {
      "cell_type": "markdown",
      "metadata": {
        "id": "-I66jKusS_Xe"
      },
      "source": [
        "# Add predictions to the data\n",
        "\n",
        "The next step is to append the predictions to the `current_customers` data so we can link the predictions to the customer ID.  \n",
        "\n"
      ]
    },
    {
      "cell_type": "code",
      "source": [
        "# Write your code here to create the contact list\n",
        "\n",
        "# Add predictions to current customer data\n",
        "current_customers['churn_probability'] = predictions\n",
        "\n",
        "# Create contact list\n",
        "contact_list = current_customers[['id', 'churn_probability']]"
      ],
      "metadata": {
        "id": "e9dM5wVV3u_2"
      },
      "execution_count": 14,
      "outputs": []
    },
    {
      "cell_type": "markdown",
      "source": [
        "# Which customers to target for retention?\n",
        "\n",
        "This is a contact list that can be handed off to the marketing department to direct their retention efforts!\n",
        "\n",
        "We need to organize the list by first sorting it then filtering it to include only customers with a predicted probability of churning greater than .2.  For sorting we'll use the Pandas function, `sort_values`:"
      ],
      "metadata": {
        "id": "Vf7aJojy4pCY"
      }
    },
    {
      "cell_type": "code",
      "source": [
        "# Write your code here to sort the list and filter for probabilities > .2\n",
        "\n",
        "# Sort by churn probability in descending order\n",
        "contact_list_sorted = contact_list.sort_values('churn_probability', ascending=False)\n",
        "\n",
        "# Filter for probabilities greater than 0.2\n",
        "high_churn_risk = contact_list_sorted[contact_list_sorted['churn_probability'] > 0.2]"
      ],
      "metadata": {
        "id": "gZ-HFqkWbQhc"
      },
      "execution_count": 15,
      "outputs": []
    },
    {
      "cell_type": "markdown",
      "source": [
        "How many customer are on the contact list?"
      ],
      "metadata": {
        "id": "XeuLC-qgb8LD"
      }
    },
    {
      "cell_type": "code",
      "source": [
        "# Write your code here\n",
        "\n",
        "num_high_risk_customers = high_churn_risk.shape[0]\n",
        "print(\"Number of customers on the contact list:\", num_high_risk_customers)"
      ],
      "metadata": {
        "id": "nfPDKwBsb_nA",
        "colab": {
          "base_uri": "https://localhost:8080/"
        },
        "outputId": "61e4318a-c471-409d-ac8d-477e57306439"
      },
      "execution_count": 16,
      "outputs": [
        {
          "output_type": "stream",
          "name": "stdout",
          "text": [
            "Number of customers on the contact list: 17\n"
          ]
        }
      ]
    }
  ],
  "metadata": {
    "colab": {
      "provenance": [],
      "include_colab_link": true
    },
    "kernelspec": {
      "display_name": "Python 3",
      "name": "python3"
    },
    "language_info": {
      "name": "python"
    }
  },
  "nbformat": 4,
  "nbformat_minor": 0
}